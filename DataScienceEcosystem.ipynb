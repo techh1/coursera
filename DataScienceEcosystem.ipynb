{
 "cells": [
  {
   "cell_type": "markdown",
   "id": "1838e078-2ced-4913-946b-48c44bea6d9a",
   "metadata": {},
   "source": [
    "# Data Science Tools and Ecosystem"
   ]
  },
  {
   "cell_type": "markdown",
   "id": "3f95b1a0-67c8-497d-8543-3566bd4c230b",
   "metadata": {},
   "source": [
    "In this notebook, Data Science Tools and Ecosystem are summarized."
   ]
  },
  {
   "cell_type": "markdown",
   "id": "0c0132f2-256d-4843-8cfc-1e98cbf2b8fd",
   "metadata": {},
   "source": [
    "**Objectives:**\n",
    "\n",
    "*List of Popular DS Languages\n",
    "*List of DS Tools\n",
    "*Some Python code\n"
   ]
  },
  {
   "cell_type": "markdown",
   "id": "207c9d4f-15b6-4bdd-aff9-0411fea53739",
   "metadata": {},
   "source": [
    "Some of the popular languages that Data Scientists use are:\n",
    "1. Python\n",
    "2. R\n",
    "3. SQL"
   ]
  },
  {
   "cell_type": "markdown",
   "id": "b69d50da-1830-44aa-b031-00d3015036d2",
   "metadata": {},
   "source": [
    "Some of the commonly used libraries used by Data Scientists include:\n",
    "1. pytorch\n",
    "2. keras\n",
    "3. ranger"
   ]
  },
  {
   "cell_type": "markdown",
   "id": "bdfd5c8f-e3a2-4375-ac6a-d00dc510b74c",
   "metadata": {},
   "source": [
    "|Data Science Tools|\n",
    "|------------------|\n",
    "|JupyterLab|\n",
    "|Github|\n",
    "|Anaconda|"
   ]
  },
  {
   "cell_type": "markdown",
   "id": "98ccddff-f649-4991-89c2-40b9ea11f4d2",
   "metadata": {},
   "source": [
    "### Below are a few examples of evaluating arithmetic expressions in Python"
   ]
  },
  {
   "cell_type": "code",
   "execution_count": 5,
   "id": "6e3ead18-d98c-4f0f-a3b7-eb6f2dda47f3",
   "metadata": {},
   "outputs": [
    {
     "data": {
      "text/plain": [
       "17"
      ]
     },
     "execution_count": 5,
     "metadata": {},
     "output_type": "execute_result"
    }
   ],
   "source": [
    "(3*4)+5"
   ]
  },
  {
   "cell_type": "code",
   "execution_count": 7,
   "id": "1a2f590b-1057-481c-a180-6370d294a2ee",
   "metadata": {},
   "outputs": [
    {
     "name": "stdout",
     "output_type": "stream",
     "text": [
      "3.3333333333333335 hours\n"
     ]
    }
   ],
   "source": [
    "print((200/60),'hours')"
   ]
  },
  {
   "cell_type": "markdown",
   "id": "7bd72e1b-161a-4826-a8e3-348195a4ef48",
   "metadata": {},
   "source": [
    "## Author\n",
    "John Kim"
   ]
  },
  {
   "cell_type": "code",
   "execution_count": null,
   "id": "73326ebf-a9a4-4998-b61c-7bf444d6e5f7",
   "metadata": {},
   "outputs": [],
   "source": []
  }
 ],
 "metadata": {
  "kernelspec": {
   "display_name": "Python 3 (ipykernel)",
   "language": "python",
   "name": "python3"
  },
  "language_info": {
   "codemirror_mode": {
    "name": "ipython",
    "version": 3
   },
   "file_extension": ".py",
   "mimetype": "text/x-python",
   "name": "python",
   "nbconvert_exporter": "python",
   "pygments_lexer": "ipython3",
   "version": "3.11.9"
  }
 },
 "nbformat": 4,
 "nbformat_minor": 5
}
